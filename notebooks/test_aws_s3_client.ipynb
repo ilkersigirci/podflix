{
 "cells": [
  {
   "cell_type": "code",
   "execution_count": null,
   "metadata": {},
   "outputs": [
    {
     "data": {
      "text/plain": [
       "True"
      ]
     },
     "execution_count": 1,
     "metadata": {},
     "output_type": "execute_result"
    }
   ],
   "source": [
    "from dotenv import load_dotenv\n",
    "\n",
    "load_dotenv()"
   ]
  },
  {
   "cell_type": "code",
   "execution_count": 2,
   "metadata": {},
   "outputs": [
    {
     "name": "stdout",
     "output_type": "stream",
     "text": [
      "2025-01-04 21:20:27 - Creating bucket: podflix-bucket\n"
     ]
    }
   ],
   "source": [
    "from podflix.db.s3_storage_client import S3CompatibleStorageClient\n",
    "\n",
    "# BUCKET_NAME = \"podflix-test\"\n",
    "# storage_client = S3CompatibleStorageClient(bucket=BUCKET_NAME)\n",
    "\n",
    "storage_client = S3CompatibleStorageClient()"
   ]
  },
  {
   "cell_type": "code",
   "execution_count": null,
   "metadata": {},
   "outputs": [],
   "source": [
    "async def test_upload():\n",
    "    test_data = \"Hello, this is a test file!\"\n",
    "    object_key = \"test/sample.txt\"\n",
    "\n",
    "    # Upload the file\n",
    "    result = await storage_client.upload_file(\n",
    "        object_key=object_key, data=test_data, mime=\"text/plain\"\n",
    "    )\n",
    "\n",
    "    print(f\"Upload result: {result}\")\n",
    "    if result:\n",
    "        print(f\"File URL: {result['url']}\")\n",
    "\n",
    "\n",
    "# Run the async function\n",
    "await test_upload()"
   ]
  },
  {
   "cell_type": "code",
   "execution_count": 4,
   "metadata": {},
   "outputs": [
    {
     "name": "stdout",
     "output_type": "stream",
     "text": [
      "File content: Hello, this is a test file!\n"
     ]
    }
   ],
   "source": [
    "async def test_read():\n",
    "    object_key = \"test/sample.txt\"\n",
    "\n",
    "    # Read the file content\n",
    "    content = await storage_client.read_file(object_key)\n",
    "\n",
    "    if content:\n",
    "        print(f\"File content: {content}\")\n",
    "    else:\n",
    "        print(\"Failed to read file\")\n",
    "\n",
    "\n",
    "# Run the async function\n",
    "await test_read()"
   ]
  },
  {
   "cell_type": "code",
   "execution_count": null,
   "metadata": {},
   "outputs": [],
   "source": []
  }
 ],
 "metadata": {
  "kernelspec": {
   "display_name": ".venv",
   "language": "python",
   "name": "python3"
  },
  "language_info": {
   "codemirror_mode": {
    "name": "ipython",
    "version": 3
   },
   "file_extension": ".py",
   "mimetype": "text/x-python",
   "name": "python",
   "nbconvert_exporter": "python",
   "pygments_lexer": "ipython3",
   "version": "3.11.7"
  }
 },
 "nbformat": 4,
 "nbformat_minor": 2
}
