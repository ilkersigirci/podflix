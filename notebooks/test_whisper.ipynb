{
 "cells": [
  {
   "cell_type": "code",
   "execution_count": 1,
   "metadata": {},
   "outputs": [],
   "source": [
    "import os\n",
    "\n",
    "from dotenv import load_dotenv\n",
    "\n",
    "load_dotenv()\n",
    "\n",
    "LIBRARY_BASE_PATH = os.getenv(\"LIBRARY_BASE_PATH\")\n",
    "WHISPER_API_BASE = os.getenv(\"WHISPER_API_BASE\")\n",
    "WHISPER_MODEL_NAME = os.getenv(\"WHISPER_MODEL_NAME\")"
   ]
  },
  {
   "cell_type": "code",
   "execution_count": 2,
   "metadata": {},
   "outputs": [],
   "source": [
    "from pathlib import Path\n",
    "\n",
    "file_path = Path(\n",
    "    f\"{LIBRARY_BASE_PATH}/deployment/resources/How.to.hack.the.simulation.mp3\"\n",
    ")"
   ]
  },
  {
   "cell_type": "code",
   "execution_count": null,
   "metadata": {},
   "outputs": [],
   "source": [
    "## Basic httpx POST request\n",
    "\n",
    "import httpx\n",
    "\n",
    "# API endpoint\n",
    "# openai_api_url = \"https://api.openai.com\"\n",
    "\n",
    "url = f\"{WHISPER_API_BASE}/v1/audio/transcriptions\"\n",
    "\n",
    "with file_path.open(\"rb\") as f:\n",
    "    files = {\"file\": (file_path.name, f)}\n",
    "    data = {\"model\": WHISPER_MODEL_NAME}\n",
    "\n",
    "    response = httpx.post(url, files=files, data=data, timeout=10).json()\n",
    "\n",
    "response"
   ]
  },
  {
   "cell_type": "code",
   "execution_count": null,
   "metadata": {},
   "outputs": [],
   "source": [
    "## Function using official openai python client\n",
    "\n",
    "from podflix.utils.model import transcribe_audio_file\n",
    "\n",
    "transribed_text = transcribe_audio_file(file=file_path)\n",
    "\n",
    "transribed_text"
   ]
  }
 ],
 "metadata": {
  "kernelspec": {
   "display_name": ".venv",
   "language": "python",
   "name": "python3"
  },
  "language_info": {
   "codemirror_mode": {
    "name": "ipython",
    "version": 3
   },
   "file_extension": ".py",
   "mimetype": "text/x-python",
   "name": "python",
   "nbconvert_exporter": "python",
   "pygments_lexer": "ipython3",
   "version": "3.11.7"
  }
 },
 "nbformat": 4,
 "nbformat_minor": 2
}
