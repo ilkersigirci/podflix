{
 "cells": [
  {
   "cell_type": "code",
   "execution_count": 1,
   "metadata": {},
   "outputs": [],
   "source": [
    "import os\n",
    "\n",
    "from dotenv import load_dotenv\n",
    "\n",
    "load_dotenv()\n",
    "\n",
    "LIBRARY_BASE_PATH = os.getenv(\"LIBRARY_BASE_PATH\")\n",
    "WHISPER_API_BASE = os.getenv(\"WHISPER_API_BASE\")\n",
    "WHISPER_MODEL_NAME = os.getenv(\"WHISPER_MODEL_NAME\")"
   ]
  },
  {
   "cell_type": "code",
   "execution_count": 2,
   "metadata": {},
   "outputs": [],
   "source": [
    "from pathlib import Path\n",
    "\n",
    "file_path = Path(\n",
    "    f\"{LIBRARY_BASE_PATH}/deployment/resources/How.to.hack.the.simulation.mp3\"\n",
    ")"
   ]
  },
  {
   "cell_type": "code",
   "execution_count": null,
   "metadata": {},
   "outputs": [],
   "source": [
    "## Basic httpx POST request\n",
    "\n",
    "import httpx\n",
    "\n",
    "# API endpoint\n",
    "# openai_api_url = \"https://api.openai.com\"\n",
    "\n",
    "url = f\"{WHISPER_API_BASE}/v1/audio/transcriptions\"\n",
    "\n",
    "with file_path.open(\"rb\") as f:\n",
    "    files = {\"file\": (file_path.name, f)}\n",
    "    data = {\"model\": WHISPER_MODEL_NAME}\n",
    "\n",
    "    response = httpx.post(url, files=files, data=data, timeout=10).json()\n",
    "\n",
    "response"
   ]
  },
  {
   "cell_type": "code",
   "execution_count": null,
   "metadata": {},
   "outputs": [],
   "source": [
    "## Function using official openai python client\n",
    "\n",
    "from podflix.utils.model import transcribe_audio_file\n",
    "\n",
    "# response_format = \"json\"\n",
    "response_format = \"verbose_json\"\n",
    "\n",
    "transribed_text = transcribe_audio_file(file=file_path, response_format=response_format)"
   ]
  },
  {
   "cell_type": "code",
   "execution_count": 7,
   "metadata": {},
   "outputs": [
    {
     "name": "stdout",
     "output_type": "stream",
     "text": [
      "TranscriptionSegment(id=1, avg_logprob=-0.15945870815111057, compression_ratio=1.7220216606498195, end=5.84, no_speech_prob=0.0251617431640625, seek=2904, start=0.0, temperature=0.0, text=' It is really interesting to think about what the puzzle of the universe is.', tokens=[50365, 467, 307, 534, 1880, 281, 519, 466, 437, 264, 12805, 295, 264, 6445, 307, 13, 50657], words=None)\n",
      "TranscriptionSegment(id=2, avg_logprob=-0.15945870815111057, compression_ratio=1.7220216606498195, end=8.56, no_speech_prob=0.0251617431640625, seek=2904, start=5.84, temperature=0.0, text=' Did the creator of the universe give us a message?', tokens=[50657, 2589, 264, 14181, 295, 264, 6445, 976, 505, 257, 3636, 30, 50793], words=None)\n"
     ]
    }
   ],
   "source": [
    "from pprint import pprint\n",
    "\n",
    "pprint(transribed_text.segments[0])\n",
    "pprint(transribed_text.segments[1])"
   ]
  }
 ],
 "metadata": {
  "kernelspec": {
   "display_name": ".venv",
   "language": "python",
   "name": "python3"
  },
  "language_info": {
   "codemirror_mode": {
    "name": "ipython",
    "version": 3
   },
   "file_extension": ".py",
   "mimetype": "text/x-python",
   "name": "python",
   "nbconvert_exporter": "python",
   "pygments_lexer": "ipython3",
   "version": "3.11.7"
  }
 },
 "nbformat": 4,
 "nbformat_minor": 2
}
