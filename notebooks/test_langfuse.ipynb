{
 "cells": [
  {
   "cell_type": "code",
   "execution_count": 1,
   "metadata": {},
   "outputs": [
    {
     "data": {
      "text/plain": [
       "True"
      ]
     },
     "execution_count": 1,
     "metadata": {},
     "output_type": "execute_result"
    }
   ],
   "source": [
    "from dotenv import load_dotenv\n",
    "\n",
    "load_dotenv()"
   ]
  },
  {
   "cell_type": "code",
   "execution_count": 5,
   "metadata": {},
   "outputs": [
    {
     "data": {
      "text/plain": [
       "'cmdhf8eby0005vx07ve9s2d7q'"
      ]
     },
     "execution_count": 5,
     "metadata": {},
     "output_type": "execute_result"
    }
   ],
   "source": [
    "from langfuse import get_client\n",
    "\n",
    "client = get_client()\n",
    "\n",
    "project_id = client._get_project_id()\n",
    "project_id"
   ]
  },
  {
   "cell_type": "code",
   "execution_count": null,
   "metadata": {},
   "outputs": [],
   "source": [
    "from typing import TypedDict\n",
    "\n",
    "from langfuse.langchain import CallbackHandler as LangfuseCallbackHandler\n",
    "from langgraph.graph import END, StateGraph\n",
    "\n",
    "\n",
    "class State(TypedDict):\n",
    "    message: str\n",
    "\n",
    "\n",
    "def node1(state: State) -> State:\n",
    "    return {\"message\": \"node1 output\"}\n",
    "\n",
    "\n",
    "workflow = StateGraph(State)\n",
    "workflow.add_node(\"node1\", node1)\n",
    "workflow.set_entry_point(\"node1\")\n",
    "workflow.add_edge(\"node1\", END)\n",
    "app = workflow.compile()\n",
    "\n",
    "\n",
    "langfuse_handler = LangfuseCallbackHandler()\n",
    "result = app.invoke(\n",
    "    {\"message\": \"test\"},\n",
    "    config={\n",
    "        \"callbacks\": [langfuse_handler],\n",
    "        \"metadata\": {\"langfuse_session_id\": \"experiment_learning_langfuse\"},\n",
    "    },\n",
    ")"
   ]
  },
  {
   "cell_type": "code",
   "execution_count": null,
   "metadata": {},
   "outputs": [],
   "source": [
    "langfuse_handler.runs[\"\"].trace_id"
   ]
  }
 ],
 "metadata": {
  "kernelspec": {
   "display_name": "podflix",
   "language": "python",
   "name": "python3"
  },
  "language_info": {
   "codemirror_mode": {
    "name": "ipython",
    "version": 3
   },
   "file_extension": ".py",
   "mimetype": "text/x-python",
   "name": "python",
   "nbconvert_exporter": "python",
   "pygments_lexer": "ipython3",
   "version": "3.11.13"
  }
 },
 "nbformat": 4,
 "nbformat_minor": 2
}
