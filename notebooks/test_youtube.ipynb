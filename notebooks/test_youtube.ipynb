{
 "cells": [
  {
   "cell_type": "markdown",
   "metadata": {},
   "source": [
    "```bash\n",
    "yt-dlp --skip-download --write-subs --exec \"cat %(requested_subtitles.:.filepath)#q | sed '/^[0-9]*:[0-9]*:[0-9]*,[0-9]* --> [0-9]*:[0-9]*:[0-9]*,[0-9]*$/d' | tr -s '\\n' ' ' > transcription.txt\" \"https://youtu.be/M59JElEPgIg?si=ayGxD6M84M2gZRl9\"\n",
    "\n",
    "\n",
    "yt-dlp --skip-download --write-subs \"https://www.youtube.com/watch?v=hz6oys4Eem4\"\n",
    "```"
   ]
  },
  {
   "cell_type": "code",
   "execution_count": 10,
   "metadata": {},
   "outputs": [],
   "source": [
    "%load_ext autoreload\n",
    "%autoreload 2"
   ]
  },
  {
   "cell_type": "code",
   "execution_count": 1,
   "metadata": {},
   "outputs": [
    {
     "data": {
      "text/plain": [
       "True"
      ]
     },
     "execution_count": 1,
     "metadata": {},
     "output_type": "execute_result"
    }
   ],
   "source": [
    "from dotenv import load_dotenv\n",
    "\n",
    "load_dotenv()"
   ]
  },
  {
   "cell_type": "code",
   "execution_count": null,
   "metadata": {},
   "outputs": [],
   "source": [
    "# url = \"https://www.youtube.com/watch?v=7Sk6lTLSZcA\"  # has official subtitle, lex\n",
    "# url = \"https://www.youtube.com/watch?v=hz6oys4Eem4\"  # has official subtitle, marquese brownlee\n",
    "url = \"https://www.youtube.com/watch?v=7ARBJQn6QkM\"  # nvidia\n",
    "# url = \"https://youtu.be/M59JElEPgIg?si=ayGxD6M84M2gZRl9\"  # has no official subtitle, only auto caption"
   ]
  },
  {
   "cell_type": "markdown",
   "metadata": {},
   "source": [
    "## YT-DLP"
   ]
  },
  {
   "cell_type": "code",
   "execution_count": null,
   "metadata": {},
   "outputs": [],
   "source": [
    "from podflix.utils.youtube import convert_vtt_to_segments, download_youtube_subtitles"
   ]
  },
  {
   "cell_type": "markdown",
   "metadata": {},
   "source": [
    "### My Custom"
   ]
  },
  {
   "cell_type": "code",
   "execution_count": null,
   "metadata": {},
   "outputs": [],
   "source": [
    "result_vtt = download_youtube_subtitles(url=url)\n",
    "result_vtt"
   ]
  },
  {
   "cell_type": "code",
   "execution_count": null,
   "metadata": {},
   "outputs": [],
   "source": [
    "result_vtt = download_youtube_subtitles(url=url)\n",
    "result_vtt"
   ]
  },
  {
   "cell_type": "code",
   "execution_count": null,
   "metadata": {},
   "outputs": [],
   "source": [
    "transcription = convert_vtt_to_segments(result_vtt)\n",
    "transcription.segments"
   ]
  },
  {
   "cell_type": "code",
   "execution_count": null,
   "metadata": {},
   "outputs": [],
   "source": [
    "transcription.text"
   ]
  },
  {
   "cell_type": "code",
   "execution_count": null,
   "metadata": {},
   "outputs": [],
   "source": [
    "transcription.model_dump()[\"segments\"]"
   ]
  },
  {
   "cell_type": "markdown",
   "metadata": {},
   "source": [
    "### MANUAL"
   ]
  },
  {
   "cell_type": "code",
   "execution_count": null,
   "metadata": {},
   "outputs": [],
   "source": [
    "from yt_dlp import YoutubeDL\n",
    "\n",
    "language = \"en\"\n",
    "supress_ytdl_output = False\n",
    "\n",
    "ydl_opts = {\n",
    "    \"skip_download\": True,\n",
    "    \"writeautomaticsub\": False,  # Download auto-generated subtitles if available\n",
    "    \"writesubtitles\": True,  # NOTE: This is required to download the subtitles. But where does it save?\n",
    "    \"subtitlesformat\": \"vtt\",\n",
    "    \"subtitleslangs\": [language],\n",
    "    \"quiet\": supress_ytdl_output,\n",
    "    \"no_warnings\": supress_ytdl_output,\n",
    "}\n",
    "\n",
    "with YoutubeDL(ydl_opts) as ydl:\n",
    "    info = ydl.extract_info(url, download=False)"
   ]
  },
  {
   "cell_type": "code",
   "execution_count": 4,
   "metadata": {},
   "outputs": [
    {
     "data": {
      "text/plain": [
       "{}"
      ]
     },
     "execution_count": 4,
     "metadata": {},
     "output_type": "execute_result"
    }
   ],
   "source": [
    "info[\"requested_subtitles\"]"
   ]
  },
  {
   "cell_type": "markdown",
   "metadata": {},
   "source": [
    "## youtube_transcript_api"
   ]
  },
  {
   "cell_type": "code",
   "execution_count": 3,
   "metadata": {},
   "outputs": [],
   "source": [
    "import re\n",
    "\n",
    "from youtube_transcript_api import YouTubeTranscriptApi\n",
    "\n",
    "url_or_id = url\n",
    "\n",
    "video_id_match = re.search(r\"(?:v=|/)([a-zA-Z0-9_-]{11})\", url_or_id)\n",
    "video_id = video_id_match.group(1) if video_id_match else url_or_id\n",
    "\n",
    "ytt_api = YouTubeTranscriptApi()\n",
    "transcript = ytt_api.fetch(video_id)"
   ]
  },
  {
   "cell_type": "code",
   "execution_count": 4,
   "metadata": {},
   "outputs": [
    {
     "data": {
      "text/plain": [
       "FetchedTranscriptSnippet(text=\"At some point, you have to believe something.\\xa0\\nWe've reinvented computing as we know it. What\", start=0.08, duration=3.68)"
      ]
     },
     "execution_count": 4,
     "metadata": {},
     "output_type": "execute_result"
    }
   ],
   "source": [
    "transcript.snippets[0]"
   ]
  },
  {
   "cell_type": "code",
   "execution_count": 5,
   "metadata": {},
   "outputs": [
    {
     "data": {
      "text/plain": [
       "FetchedTranscriptSnippet(text='is the vision for what you see coming next? We\\xa0\\nasked ourselves, if it can do this, how far can', start=3.76, duration=4.72)"
      ]
     },
     "execution_count": 5,
     "metadata": {},
     "output_type": "execute_result"
    }
   ],
   "source": [
    "transcript.snippets[1]"
   ]
  },
  {
   "cell_type": "code",
   "execution_count": null,
   "metadata": {},
   "outputs": [],
   "source": [
    "from youtube_transcript_api.formatters import TextFormatter\n",
    "\n",
    "formatter = TextFormatter()\n",
    "formatted_txt = formatter.format_transcript(transcript)\n",
    "\n",
    "formatted_txt"
   ]
  },
  {
   "cell_type": "markdown",
   "metadata": {},
   "source": [
    "## Custom TranscriptionFormatter Test"
   ]
  },
  {
   "cell_type": "code",
   "execution_count": null,
   "metadata": {},
   "outputs": [],
   "source": [
    "from podflix.utils.youtube import fetch_youtube_transcription\n",
    "\n",
    "transcription_direct = fetch_youtube_transcription(url)"
   ]
  },
  {
   "cell_type": "code",
   "execution_count": 4,
   "metadata": {},
   "outputs": [
    {
     "data": {
      "text/plain": [
       "AudioSegment(id=0, start=0.08, end=3.7600000000000002, text=\"At some point, you have to believe something.\\xa0\\nWe've reinvented computing as we know it. What\")"
      ]
     },
     "execution_count": 4,
     "metadata": {},
     "output_type": "execute_result"
    }
   ],
   "source": [
    "transcription_direct.segments[0]"
   ]
  }
 ],
 "metadata": {
  "kernelspec": {
   "display_name": "podflix",
   "language": "python",
   "name": "python3"
  },
  "language_info": {
   "codemirror_mode": {
    "name": "ipython",
    "version": 3
   },
   "file_extension": ".py",
   "mimetype": "text/x-python",
   "name": "python",
   "nbconvert_exporter": "python",
   "pygments_lexer": "ipython3",
   "version": "3.11.13"
  }
 },
 "nbformat": 4,
 "nbformat_minor": 2
}
