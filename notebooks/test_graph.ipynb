{
 "cells": [
  {
   "cell_type": "code",
   "execution_count": 1,
   "metadata": {},
   "outputs": [
    {
     "data": {
      "text/plain": [
       "True"
      ]
     },
     "execution_count": 1,
     "metadata": {},
     "output_type": "execute_result"
    }
   ],
   "source": [
    "from dotenv import load_dotenv\n",
    "\n",
    "load_dotenv()"
   ]
  },
  {
   "cell_type": "code",
   "execution_count": 2,
   "metadata": {},
   "outputs": [],
   "source": [
    "from langchain_core.messages import HumanMessage\n",
    "\n",
    "from podflix.graph.mock import compiled_graph\n",
    "\n",
    "inputs = {\"messages\": [HumanMessage(content=\"Hello\")]}"
   ]
  },
  {
   "cell_type": "code",
   "execution_count": null,
   "metadata": {},
   "outputs": [],
   "source": [
    "async for msg, metadata in compiled_graph.astream(\n",
    "    {\"messages\": [HumanMessage(content=\"Hello\")]}, stream_mode=\"messages\"\n",
    "):\n",
    "    if (\n",
    "        msg.content\n",
    "        and not isinstance(msg, HumanMessage)\n",
    "        and metadata[\"langgraph_node\"] == \"mock_answer\"\n",
    "    ):\n",
    "        print(msg.content)"
   ]
  },
  {
   "cell_type": "code",
   "execution_count": null,
   "metadata": {},
   "outputs": [],
   "source": [
    "from pprint import pprint  # noqa: F401\n",
    "\n",
    "from langchain.schema.runnable.config import RunnableConfig\n",
    "\n",
    "graph_runnable_config = RunnableConfig(\n",
    "    callbacks=[],\n",
    "    recursion_limit=10,\n",
    ")\n",
    "\n",
    "streamable_node_names = [\n",
    "    \"mock_answer\",\n",
    "]\n",
    "\n",
    "\n",
    "async for event in compiled_graph.astream_events(\n",
    "    inputs,\n",
    "    config=graph_runnable_config,\n",
    "    version=\"v2\",\n",
    "):\n",
    "    event_kind = event[\"event\"]\n",
    "    langgraph_node = event[\"metadata\"].get(\"langgraph_node\", None)\n",
    "\n",
    "    # pprint(event)\n",
    "\n",
    "    if event_kind == \"on_chat_model_stream\":\n",
    "        if langgraph_node not in streamable_node_names:\n",
    "            continue\n",
    "\n",
    "        ai_message_content = event[\"data\"][\"chunk\"].content\n",
    "\n",
    "        if ai_message_content:\n",
    "            print(ai_message_content)"
   ]
  }
 ],
 "metadata": {
  "kernelspec": {
   "display_name": ".venv",
   "language": "python",
   "name": "python3"
  },
  "language_info": {
   "codemirror_mode": {
    "name": "ipython",
    "version": 3
   },
   "file_extension": ".py",
   "mimetype": "text/x-python",
   "name": "python",
   "nbconvert_exporter": "python",
   "pygments_lexer": "ipython3",
   "version": "3.11.7"
  }
 },
 "nbformat": 4,
 "nbformat_minor": 2
}
